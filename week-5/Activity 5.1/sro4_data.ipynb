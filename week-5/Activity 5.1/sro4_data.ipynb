{
 "cells": [
  {
   "cell_type": "code",
   "execution_count": 1,
   "id": "fd9ce051-9355-4a0d-926e-12eea2d0a9d7",
   "metadata": {},
   "outputs": [
    {
     "name": "stderr",
     "output_type": "stream",
     "text": [
      "/var/folders/z3/2l40y8_n1hl9vns1b7_vgr1r0000gn/T/ipykernel_21115/261588218.py:34: DeprecationWarning: datetime.datetime.utcnow() is deprecated and scheduled for removal in a future version. Use timezone-aware objects to represent datetimes in UTC: datetime.datetime.now(datetime.UTC).\n",
      "  start = datetime.utcnow().replace(microsecond=0)\n"
     ]
    },
    {
     "name": "stdout",
     "output_type": "stream",
     "text": [
      "Uploaded 120 samples to /sensors/HC-SR04\n",
      "Saved CSV -> sr04_firebase_data.csv\n",
      "Saved plot -> sr04_firebase_plot.png\n"
     ]
    }
   ],
   "source": [
    "import random\n",
    "from datetime import datetime, timedelta\n",
    "\n",
    "import firebase_admin\n",
    "from firebase_admin import credentials, db\n",
    "\n",
    "import pandas as pd\n",
    "import matplotlib.pyplot as plt\n",
    "\n",
    "DATABASE_URL = \"https://sit-225-5p-default-rtdb.firebaseio.com/sensors/DHT22/-OXflDv6TiBBKXzik2Z9\"\n",
    "SERVICE_KEY = \"firebase-key.json\"\n",
    "PATH = \"sensors/HC-SR04\"\n",
    "N_SAMPLES = 120\n",
    "INTERVAL_S = 5\n",
    "\n",
    "cred = credentials.Certificate(SERVICE_KEY)\n",
    "firebase_admin.initialize_app(cred, {\"databaseURL\": DATABASE_URL})\n",
    "\n",
    "def generate_sample(ts):\n",
    "    base = 150.0\n",
    "    # simple drift pattern + noise; clamp to 5..400 cm\n",
    "    idx = int((pd.to_datetime(ts).timestamp()))\n",
    "    drift = 30.0 if (idx // 100) % 2 == 0 else -30.0\n",
    "    noise = random.uniform(-8.0, 8.0)\n",
    "    dist = max(5.0, min(400.0, base + drift + noise))\n",
    "    return {\n",
    "        \"sensor_name\": \"HC-SR04\",\n",
    "        \"timestamp\": ts,\n",
    "        \"distance_cm\": round(dist, 2),\n",
    "    }\n",
    "\n",
    "def upload_samples():\n",
    "    ref = db.reference(PATH)\n",
    "    start = datetime.utcnow().replace(microsecond=0)\n",
    "    for i in range(N_SAMPLES):\n",
    "        ts = (start + timedelta(seconds=i * INTERVAL_S)).isoformat() + \"Z\"\n",
    "        ref.push(generate_sample(ts))\n",
    "    print(f\"Uploaded {N_SAMPLES} samples to /{PATH}\")\n",
    "\n",
    "def download_csv_and_plot():\n",
    "    ref = db.reference(PATH)\n",
    "    data = ref.get() or {}\n",
    "    df = pd.DataFrame.from_dict(data, orient=\"index\")\n",
    "    if df.empty:\n",
    "        print(\"No data found at\", PATH)\n",
    "        return\n",
    "    df = df.sort_values(\"timestamp\")\n",
    "    csv_path = \"sr04_firebase_data.csv\"\n",
    "    img_path = \"sr04_firebase_plot.png\"\n",
    "    df.to_csv(csv_path, index=False)\n",
    "\n",
    "    t = pd.to_datetime(df[\"timestamp\"])\n",
    "    plt.figure()\n",
    "    plt.plot(t, df[\"distance_cm\"], label=\"Distance (cm)\")\n",
    "    plt.xlabel(\"Time\")\n",
    "    plt.ylabel(\"Distance (cm)\")\n",
    "    plt.title(\"HC-SR04 Readings (from Firebase)\")\n",
    "    plt.legend()\n",
    "    plt.tight_layout()\n",
    "    plt.savefig(img_path, bbox_inches=\"tight\")\n",
    "    plt.close()\n",
    "    print(f\"Saved CSV -> {csv_path}\")\n",
    "    print(f\"Saved plot -> {img_path}\")\n",
    "\n",
    "if __name__ == \"__main__\":\n",
    "    upload_samples()\n",
    "    download_csv_and_plot()\n"
   ]
  },
  {
   "cell_type": "code",
   "execution_count": null,
   "id": "bf6d069d-6e4b-48e3-8995-9e219b16bf2c",
   "metadata": {},
   "outputs": [],
   "source": []
  }
 ],
 "metadata": {
  "kernelspec": {
   "display_name": "Python 3 (ipykernel)",
   "language": "python",
   "name": "python3"
  },
  "language_info": {
   "codemirror_mode": {
    "name": "ipython",
    "version": 3
   },
   "file_extension": ".py",
   "mimetype": "text/x-python",
   "name": "python",
   "nbconvert_exporter": "python",
   "pygments_lexer": "ipython3",
   "version": "3.13.5"
  }
 },
 "nbformat": 4,
 "nbformat_minor": 5
}
