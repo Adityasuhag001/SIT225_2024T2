{
 "cells": [
  {
   "cell_type": "code",
   "execution_count": 1,
   "id": "bb278f50-436a-4535-b3c5-f250dbd45d43",
   "metadata": {},
   "outputs": [
    {
     "name": "stderr",
     "output_type": "stream",
     "text": [
      "Matplotlib is building the font cache; this may take a moment.\n",
      "/var/folders/z3/2l40y8_n1hl9vns1b7_vgr1r0000gn/T/ipykernel_5562/1916140163.py:34: DeprecationWarning: datetime.datetime.utcnow() is deprecated and scheduled for removal in a future version. Use timezone-aware objects to represent datetimes in UTC: datetime.datetime.now(datetime.UTC).\n",
      "  start = datetime.utcnow().replace(microsecond=0)\n"
     ]
    },
    {
     "name": "stdout",
     "output_type": "stream",
     "text": [
      "Uploaded 60 samples to /sensors/DHT22\n",
      "Saved CSV -> dht22_firebase_data.csv\n",
      "Saved plot -> dht22_firebase_plot.png\n"
     ]
    }
   ],
   "source": [
    "import time\n",
    "import random\n",
    "from datetime import datetime, timedelta\n",
    "\n",
    "import firebase_admin\n",
    "from firebase_admin import credentials, db\n",
    "\n",
    "import pandas as pd\n",
    "import matplotlib.pyplot as plt\n",
    "\n",
    "\n",
    "DATABASE_URL = \"https://sit-225-5p-default-rtdb.firebaseio.com/Book1\"  # <-- replace\n",
    "SERVICE_KEY = \"firebase-key.json\"  # path to your service account JSON\n",
    "PATH = \"sensors/DHT22\"             # DB path to store the samples\n",
    "N_SAMPLES = 60                     # how many rows to generate\n",
    "INTERVAL_S = 10                    # seconds between samples (simulating real time)\n",
    "\n",
    "\n",
    "# Init Firebase Admin\n",
    "cred = credentials.Certificate(SERVICE_KEY)\n",
    "firebase_admin.initialize_app(cred, {\"databaseURL\": DATABASE_URL})\n",
    "\n",
    "def generate_sample(ts: datetime):\n",
    "    \"\"\"Return one DHT22 sample dict.\"\"\"\n",
    "    return {\n",
    "        \"sensor_name\": \"DHT22\",\n",
    "        \"timestamp\": ts.isoformat() + \"Z\",\n",
    "        \"temperature\": round(random.uniform(22.0, 28.0), 2),\n",
    "        \"humidity\": round(random.uniform(45.0, 65.0), 2),\n",
    "    }\n",
    "\n",
    "def upload_samples():\n",
    "    ref = db.reference(PATH)\n",
    "    start = datetime.utcnow().replace(microsecond=0)\n",
    "    for i in range(N_SAMPLES):\n",
    "        sample = generate_sample(start + timedelta(seconds=i * INTERVAL_S))\n",
    "        # push creates a unique key under PATH\n",
    "        ref.push(sample)\n",
    "        # comment the sleep if you want all data at once\n",
    "        # time.sleep(INTERVAL_S)\n",
    "    print(f\"Uploaded {N_SAMPLES} samples to /{PATH}\")\n",
    "\n",
    "def download_to_csv_and_plot():\n",
    "    ref = db.reference(PATH)\n",
    "    data = ref.get() or {}\n",
    "    # data is a dict of {autoKey: sample}\n",
    "    df = pd.DataFrame.from_dict(data, orient=\"index\")\n",
    "    # sort by timestamp in case\n",
    "    df = df.sort_values(\"timestamp\")\n",
    "    csv_path = \"dht22_firebase_data.csv\"\n",
    "    img_path = \"dht22_firebase_plot.png\"\n",
    "    df.to_csv(csv_path, index=False)\n",
    "\n",
    "    # Plot\n",
    "    t = pd.to_datetime(df[\"timestamp\"])\n",
    "    plt.figure()\n",
    "    plt.plot(t, df[\"temperature\"], label=\"Temperature (°C)\")\n",
    "    plt.plot(t, df[\"humidity\"], label=\"Humidity (%)\")\n",
    "    plt.xlabel(\"Time\")\n",
    "    plt.ylabel(\"Value\")\n",
    "    plt.title(\"DHT22 Readings (from Firebase)\")\n",
    "    plt.legend()\n",
    "    plt.tight_layout()\n",
    "    plt.savefig(img_path, bbox_inches=\"tight\")\n",
    "    plt.close()\n",
    "\n",
    "    print(f\"Saved CSV -> {csv_path}\")\n",
    "    print(f\"Saved plot -> {img_path}\")\n",
    "\n",
    "if __name__ == \"__main__\":\n",
    "    upload_samples()\n",
    "    download_to_csv_and_plot()\n"
   ]
  },
  {
   "cell_type": "code",
   "execution_count": null,
   "id": "dae9bb57-4ce1-410f-83a9-3ea49b4c7143",
   "metadata": {},
   "outputs": [],
   "source": []
  }
 ],
 "metadata": {
  "kernelspec": {
   "display_name": "Python 3 (ipykernel)",
   "language": "python",
   "name": "python3"
  },
  "language_info": {
   "codemirror_mode": {
    "name": "ipython",
    "version": 3
   },
   "file_extension": ".py",
   "mimetype": "text/x-python",
   "name": "python",
   "nbconvert_exporter": "python",
   "pygments_lexer": "ipython3",
   "version": "3.13.5"
  }
 },
 "nbformat": 4,
 "nbformat_minor": 5
}
