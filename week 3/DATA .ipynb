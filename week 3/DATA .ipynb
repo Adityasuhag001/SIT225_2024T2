{
 "cells": [
  {
   "cell_type": "code",
   "execution_count": null,
   "id": "71fd66a7-e17a-421e-aa91-99a3de3edea2",
   "metadata": {},
   "outputs": [],
   "source": [
    "import asyncio\n",
    "from arduino_iot_cloud import ArduinoCloudClient\n",
    "import traceback\n",
    "from datetime import datetime\n",
    "\n",
    "DEVICE_ID = \"26cdd025-7251-41aa-9448-826b73d8254c\"\n",
    "SECRET_KEY = \"l1moJFDO?@NDXb8NdSw#EJvU@\"\n",
    "\n",
    "# Open file once at the start in append mode\n",
    "data_file = open(\"temperature_log.csv\", \"a\")\n",
    "\n",
    "# Callback: triggered when temperature changes\n",
    "def on_temperature_changed(client, value):\n",
    "    timestamp = datetime.now().isoformat()\n",
    "    csv_line = f\"{timestamp},{value}\\n\"\n",
    "    data_file.write(csv_line)\n",
    "    data_file.flush()  # ensure data is written immediately\n",
    "    print(f\"Saved: {csv_line.strip()}\")\n",
    "\n",
    "# Main async function\n",
    "async def run_cloud_client():\n",
    "    try:\n",
    "        client = ArduinoCloudClient(\n",
    "            device_id=DEVICE_ID,\n",
    "            username=DEVICE_ID,\n",
    "            password=SECRET_KEY\n",
    "        )\n",
    "        client.register(\"temperature\", value=None, on_write=on_temperature_changed)\n",
    "        print(\"Listening for updates...\")\n",
    "        await client.run(interval=5, backoff=1)\n",
    "    except Exception as e:\n",
    "        print(\"Error occurred:\")\n",
    "        traceback.print_exc()\n",
    "    finally:\n",
    "        data_file.close()  # Close file safely when done\n",
    "\n",
    "# Start program\n",
    "if __name__ == \"__main__\":\n",
    "    asyncio.run(run_cloud_client())\n"
   ]
  }
 ],
 "metadata": {
  "kernelspec": {
   "display_name": "Python 3 (ipykernel)",
   "language": "python",
   "name": "python3"
  },
  "language_info": {
   "codemirror_mode": {
    "name": "ipython",
    "version": 3
   },
   "file_extension": ".py",
   "mimetype": "text/x-python",
   "name": "python",
   "nbconvert_exporter": "python",
   "pygments_lexer": "ipython3",
   "version": "3.13.5"
  }
 },
 "nbformat": 4,
 "nbformat_minor": 5
}
